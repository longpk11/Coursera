{
 "cells": [
  {
   "cell_type": "code",
   "execution_count": null,
   "id": "308a4aca-32c1-4af0-88b3-734e141f7eab",
   "metadata": {},
   "outputs": [],
   "source": []
  },
  {
   "cell_type": "markdown",
   "id": "ad17efc1-bf10-4415-a98c-95c4a19a8887",
   "metadata": {},
   "source": [
    "1. Scikit-learn\n",
    "2. Matplot lib\n",
    "3. Numpy\n",
    "4. Panda"
   ]
  }
 ],
 "metadata": {
  "kernelspec": {
   "display_name": "Python",
   "language": "python",
   "name": "conda-env-python-py"
  },
  "language_info": {
   "codemirror_mode": {
    "name": "ipython",
    "version": 3
   },
   "file_extension": ".py",
   "mimetype": "text/x-python",
   "name": "python",
   "nbconvert_exporter": "python",
   "pygments_lexer": "ipython3",
   "version": "3.7.12"
  }
 },
 "nbformat": 4,
 "nbformat_minor": 5
}
