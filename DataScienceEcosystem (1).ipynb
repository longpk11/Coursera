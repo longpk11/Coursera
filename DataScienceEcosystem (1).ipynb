{
 "cells": [
  {
   "cell_type": "code",
   "execution_count": null,
   "id": "308a4aca-32c1-4af0-88b3-734e141f7eab",
   "metadata": {},
   "outputs": [],
   "source": []
  },
  {
   "cell_type": "markdown",
   "id": "942b7594-714a-489a-839b-2c8efd87c308",
   "metadata": {},
   "source": [
    "#### Add your code below following the instructions given in the course\n"
   ]
  },
  {
   "cell_type": "markdown",
   "id": "bf7c7ac6-726f-4611-9212-e175396d897a",
   "metadata": {
    "jp-MarkdownHeadingCollapsed": true,
    "tags": []
   },
   "source": [
    "# Data Science Tools and Ecosystem"
   ]
  },
  {
   "cell_type": "markdown",
   "id": "10d92d6b-c0f2-4e99-9271-0bd0ab5c9c42",
   "metadata": {},
   "source": [
    "# In this notebook, Data Science Tools and Ecosystem are summarized."
   ]
  },
  {
   "cell_type": "markdown",
   "id": "9bec7001-7ae8-42cd-b34d-d53735bae1ea",
   "metadata": {},
   "source": [
    "# Some of the popular languages that Data Scientists use are:"
   ]
  },
  {
   "cell_type": "markdown",
   "id": "1f753ca2-cdea-44a9-b993-27c9b93c0996",
   "metadata": {},
   "source": [
    "1. Python\n",
    "2. R\n",
    "3. SQL\n"
   ]
  },
  {
   "cell_type": "markdown",
   "id": "e5cb8263-f8c4-407b-aa23-74270cc9add4",
   "metadata": {},
   "source": [
    "# Some of the commonly used libraries used by Data Scientists include:"
   ]
  },
  {
   "cell_type": "markdown",
   "id": "0fe71f07-298d-4473-a126-c34f82c420df",
   "metadata": {},
   "source": [
    "1. Scikit-learn\n",
    "2. Matplot lib\n",
    "3. Numpy\n",
    "4. Panda"
   ]
  },
  {
   "cell_type": "markdown",
   "id": "d2f1d928-24cb-468b-b2ab-0c31e83386b4",
   "metadata": {
    "tags": []
   },
   "source": [
    "# Data science tools"
   ]
  },
  {
   "cell_type": "markdown",
   "id": "94d02713-104d-4b03-94f2-e814a7c95d91",
   "metadata": {},
   "source": [
    "| Data science tools |\n",
    "|--------------------|\n",
    "| Jupyter Notebooks  |\n",
    "| Rstudio            |\n",
    "| Python  |\n"
   ]
  },
  {
   "cell_type": "markdown",
   "id": "f7af7651-fb54-44c3-9124-a5534cb00746",
   "metadata": {},
   "source": [
    "### Below are a few examples of evaluating arithmetic expressions in Python"
   ]
  },
  {
   "cell_type": "code",
   "execution_count": 5,
   "id": "e5e932a0-16f1-44bd-88a8-d3e2490d50f1",
   "metadata": {
    "tags": []
   },
   "outputs": [
    {
     "data": {
      "text/plain": [
       "17"
      ]
     },
     "execution_count": 5,
     "metadata": {},
     "output_type": "execute_result"
    }
   ],
   "source": [
    "(3*4)+5"
   ]
  },
  {
   "cell_type": "markdown",
   "id": "8f009b4f-576d-4f9d-8937-7aff0fb57dca",
   "metadata": {},
   "source": [
    "#### This a simple arithmetic expression to mutiply then add integers"
   ]
  },
  {
   "cell_type": "code",
   "execution_count": 9,
   "id": "c98f1877-2c09-40bf-9b60-32ae04255b18",
   "metadata": {
    "tags": []
   },
   "outputs": [
    {
     "data": {
      "text/plain": [
       "3.3333333333333335"
      ]
     },
     "execution_count": 9,
     "metadata": {},
     "output_type": "execute_result"
    }
   ],
   "source": [
    "200/60"
   ]
  },
  {
   "cell_type": "markdown",
   "id": "8a8affc6-fa70-4f05-b72b-3045e4e8aec2",
   "metadata": {},
   "source": [
    "### This will convert 200 minutes to hours by diving by 60"
   ]
  },
  {
   "cell_type": "code",
   "execution_count": null,
   "id": "ae7c270a-4a67-424c-bc0c-41c432929ccd",
   "metadata": {
    "tags": []
   },
   "outputs": [],
   "source": [
    "# This will convert 200 minutes to hours by dividing by 60.\n",
    "minutes = 200\n",
    "hours = minutes / 60\n",
    "\n",
    "print(f\"{minutes} minutes is equal to {hours} hours.\")\n"
   ]
  },
  {
   "cell_type": "markdown",
   "id": "cf4a5c66-3471-44e9-b36e-0b5439136dda",
   "metadata": {},
   "source": [
    "***Objective***"
   ]
  },
  {
   "cell_type": "markdown",
   "id": "ef0f0fc4-dd94-4a40-9fac-74766a3eaf13",
   "metadata": {},
   "source": [
    "1. Poular data science languages\n",
    "2. Commonly used data science libraries\n",
    "3. Data science tools\n",
    "\n"
   ]
  },
  {
   "cell_type": "markdown",
   "id": "80f1582c-2146-42ca-a963-2bfc3c55cb4d",
   "metadata": {},
   "source": [
    "## Author"
   ]
  },
  {
   "cell_type": "markdown",
   "id": "ba625b7b-5484-41fb-a23d-e2d10bb1b0c9",
   "metadata": {},
   "source": [
    "Thanh Long"
   ]
  },
  {
   "cell_type": "code",
   "execution_count": null,
   "id": "cb1085fd-a506-4537-a5dc-fc118cf4bbf1",
   "metadata": {},
   "outputs": [],
   "source": []
  },
  {
   "cell_type": "markdown",
   "id": "291cbbb0-e02c-48e9-8ada-9d66fe8917a6",
   "metadata": {
    "jp-MarkdownHeadingCollapsed": true,
    "tags": []
   },
   "source": [
    "# Data Science Tools and Ecosystem"
   ]
  },
  {
   "cell_type": "markdown",
   "id": "d171c136-1ffc-40ce-8844-f46be62cf63f",
   "metadata": {},
   "source": [
    "# In this notebook, Data Science Tools and Ecosystem are summarized."
   ]
  },
  {
   "cell_type": "markdown",
   "id": "b0076bf4-cd27-4756-a41a-b7ae2c18864e",
   "metadata": {},
   "source": [
    "# Some of the popular languages that Data Scientists use are:"
   ]
  },
  {
   "cell_type": "markdown",
   "id": "86323fcd-2fed-4673-b50f-6de8ecfdf65e",
   "metadata": {},
   "source": [
    "1. Python\n",
    "2. R\n",
    "3. SQL\n"
   ]
  },
  {
   "cell_type": "markdown",
   "id": "073f2de2-8336-41db-92db-10f87a789c2f",
   "metadata": {},
   "source": [
    "# Some of the commonly used libraries used by Data Scientists include:"
   ]
  },
  {
   "cell_type": "markdown",
   "id": "b232fda3-adf1-4e3e-a5ac-c9ae0b474076",
   "metadata": {},
   "source": [
    "1. Scikit-learn\n",
    "2. Matplot lib\n",
    "3. Numpy\n",
    "4. Panda"
   ]
  },
  {
   "cell_type": "markdown",
   "id": "007c185e-c44f-4860-82d4-afe3688553c1",
   "metadata": {},
   "source": [
    "1. Scikit-learn\n",
    "2. Matplot lib\n",
    "3. Numpy\n",
    "4. Panda"
   ]
  },
  {
   "cell_type": "markdown",
   "id": "0c2874a4-0fc5-42bc-8aa6-e70ce516d966",
   "metadata": {
    "tags": []
   },
   "source": [
    "# Data science tools"
   ]
  },
  {
   "cell_type": "markdown",
   "id": "f12a5658-d16b-4142-bf6b-e30577795926",
   "metadata": {},
   "source": [
    "| Data science tools |\n",
    "|--------------------|\n",
    "| Jupyter Notebooks  |\n",
    "| Rstudio            |\n",
    "| Python  |\n"
   ]
  },
  {
   "cell_type": "markdown",
   "id": "3bd0ae0c-429a-4ecf-87ee-bff90e08fc77",
   "metadata": {},
   "source": [
    "### Below are a few examples of evaluating arithmetic expressions in Python"
   ]
  },
  {
   "cell_type": "code",
   "execution_count": 5,
   "id": "1cad80ac-5e3e-4ce1-a87b-3de5e1b75174",
   "metadata": {
    "tags": []
   },
   "outputs": [
    {
     "data": {
      "text/plain": [
       "17"
      ]
     },
     "execution_count": 5,
     "metadata": {},
     "output_type": "execute_result"
    }
   ],
   "source": [
    "(3*4)+5"
   ]
  },
  {
   "cell_type": "markdown",
   "id": "e185c907-1f7d-4d26-92ce-a10068cd68c5",
   "metadata": {},
   "source": [
    "#### This a simple arithmetic expression to mutiply then add integers"
   ]
  },
  {
   "cell_type": "code",
   "execution_count": 9,
   "id": "05d1e37f-157f-4d61-aa77-28eded9f0f71",
   "metadata": {
    "tags": []
   },
   "outputs": [
    {
     "data": {
      "text/plain": [
       "3.3333333333333335"
      ]
     },
     "execution_count": 9,
     "metadata": {},
     "output_type": "execute_result"
    }
   ],
   "source": [
    "200/60"
   ]
  },
  {
   "cell_type": "markdown",
   "id": "70b9e6c3-b154-46ee-a69c-5a3841ca15c9",
   "metadata": {},
   "source": [
    "### This will convert 200 minutes to hours by diving by 60"
   ]
  },
  {
   "cell_type": "code",
   "execution_count": 16,
   "id": "baab41c9-53f2-424c-be84-7e0b7e4e1d38",
   "metadata": {
    "tags": []
   },
   "outputs": [
    {
     "name": "stdout",
     "output_type": "stream",
     "text": [
      "200 minutes is equal to 3.3333333333333335 hours.\n"
     ]
    }
   ],
   "source": [
    "# This will convert 200 minutes to hours by dividing by 60.\n",
    "minutes = 200\n",
    "hours = minutes / 60\n",
    "\n",
    "print(f\"{minutes} minutes is equal to {hours} hours.\")\n"
   ]
  },
  {
   "cell_type": "markdown",
   "id": "352d7f16-0669-4d01-ba27-135445c612e6",
   "metadata": {},
   "source": [
    "***Objective***"
   ]
  },
  {
   "cell_type": "markdown",
   "id": "6f284906-27ca-430d-b8f9-d5e340d8f422",
   "metadata": {},
   "source": [
    "1. Poular data science languages\n",
    "2. Commonly used data science libraries\n",
    "3. Data science tools\n",
    "\n"
   ]
  },
  {
   "cell_type": "markdown",
   "id": "616a17c6-dd64-4bc7-b186-eba0da0a6f46",
   "metadata": {},
   "source": [
    "## Author"
   ]
  },
  {
   "cell_type": "markdown",
   "id": "72312fcb-f06d-4fc3-baf1-8538e7ba3c93",
   "metadata": {},
   "source": [
    "Thanh Long"
   ]
  },
  {
   "cell_type": "code",
   "execution_count": null,
   "id": "06e60f22-5657-4ce2-9556-96912c9632ec",
   "metadata": {},
   "outputs": [],
   "source": []
  }
 ],
 "metadata": {
  "kernelspec": {
   "display_name": "Python",
   "language": "python",
   "name": "conda-env-python-py"
  },
  "language_info": {
   "codemirror_mode": {
    "name": "ipython",
    "version": 3
   },
   "file_extension": ".py",
   "mimetype": "text/x-python",
   "name": "python",
   "nbconvert_exporter": "python",
   "pygments_lexer": "ipython3",
   "version": "3.7.12"
  }
 },
 "nbformat": 4,
 "nbformat_minor": 5
}
